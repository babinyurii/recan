{
 "cells": [
  {
   "cell_type": "markdown",
   "id": "37a9ead4",
   "metadata": {},
   "source": [
    "#### NOTES:\n",
    "- the idea is to make two classes (or just modules): sliding window class (which can be used anywhere) and all the calculation (simgen). \n",
    "- seems like we can put all the slices into a collection and count all the ticks we need inside the one piece of code. but it'll be a mess"
   ]
  },
  {
   "cell_type": "code",
   "execution_count": null,
   "id": "028a4414",
   "metadata": {},
   "outputs": [],
   "source": []
  },
  {
   "cell_type": "code",
   "execution_count": null,
   "id": "e9a1cf43",
   "metadata": {},
   "outputs": [],
   "source": []
  },
  {
   "cell_type": "code",
   "execution_count": 1,
   "id": "81010888",
   "metadata": {},
   "outputs": [],
   "source": [
    "from Bio.Align import MultipleSeqAlignment\n",
    "from Bio.SeqRecord import SeqRecord"
   ]
  },
  {
   "cell_type": "markdown",
   "id": "3fcc3345",
   "metadata": {},
   "source": [
    "## slicing multiple sequence alignment\n",
    "http://biopython.org/DIST/docs/tutorial/Tutorial.html#sec89"
   ]
  },
  {
   "cell_type": "code",
   "execution_count": 2,
   "id": "43d82132",
   "metadata": {},
   "outputs": [],
   "source": [
    "from Bio import AlignIO"
   ]
  },
  {
   "cell_type": "code",
   "execution_count": 3,
   "id": "27b3ee12",
   "metadata": {},
   "outputs": [],
   "source": [
    "align = AlignIO.read(\"./hbv_C_Bj_Ba.fasta\", \"fasta\")"
   ]
  },
  {
   "cell_type": "code",
   "execution_count": 4,
   "id": "0e1c7a39",
   "metadata": {},
   "outputs": [
    {
     "data": {
      "text/plain": [
       "<<class 'Bio.Align.MultipleSeqAlignment'> instance (3 records of length 3215) at 1c728a648e0>"
      ]
     },
     "execution_count": 4,
     "metadata": {},
     "output_type": "execute_result"
    }
   ],
   "source": [
    "align"
   ]
  },
  {
   "cell_type": "code",
   "execution_count": 5,
   "id": "2b3687d4",
   "metadata": {},
   "outputs": [
    {
     "name": "stdout",
     "output_type": "stream",
     "text": [
      "Alignment with 3 rows and 3215 columns\n",
      "TTCCACAGCATTCCACCAAGCTCTGCAGGATCCCAGAGTAAGGG...GAA AB048704.1_genotype_C_\n",
      "CTCCACCACGTTCCACCAAACTCTTCAAGATCCCAGAGTCAGGG...GAA AB033555.1_Ba\n",
      "CTCCACCACTTTCCACCAAACTCTTCAAGATCCCAGAGTCAGGG...GAA AB010291.1_Bj\n"
     ]
    }
   ],
   "source": [
    "print(align)"
   ]
  },
  {
   "cell_type": "markdown",
   "id": "ce179d72",
   "metadata": {},
   "source": [
    "You can also select a range of columns. For example, to pick out those same three rows we extracted earlier, but take just their first six columns:\n",
    "\n",
    " print(alignment[3:6, :6 ])\n",
    " \n",
    "Alignment with 3 rows and 6 columns\n",
    "\n",
    "AEGDDP COATB_BPM13/24-72\n",
    "\n",
    "AEGDDP COATB_BPZJ2/1-49\n",
    "\n",
    "AEGDDP Q9T0Q9_BPFD/1-49"
   ]
  },
  {
   "cell_type": "markdown",
   "id": "95df6c98",
   "metadata": {},
   "source": [
    "### how to slice alignment into pieces using only biopython\n"
   ]
  },
  {
   "cell_type": "code",
   "execution_count": 6,
   "id": "c577c3e3",
   "metadata": {},
   "outputs": [
    {
     "name": "stdout",
     "output_type": "stream",
     "text": [
      "Alignment with 3 rows and 4 columns\n",
      "TCCA AB048704.1_genotype_C_\n",
      "TCCA AB033555.1_Ba\n",
      "TCCA AB010291.1_Bj\n"
     ]
    }
   ],
   "source": [
    "print(align[:, 1:5])"
   ]
  },
  {
   "cell_type": "markdown",
   "id": "368feb4c",
   "metadata": {},
   "source": [
    "### lenght of the alignment"
   ]
  },
  {
   "cell_type": "code",
   "execution_count": 7,
   "id": "4b33df08",
   "metadata": {},
   "outputs": [
    {
     "data": {
      "text/plain": [
       "3215"
      ]
     },
     "execution_count": 7,
     "metadata": {},
     "output_type": "execute_result"
    }
   ],
   "source": [
    "align.get_alignment_length()"
   ]
  },
  {
   "cell_type": "markdown",
   "id": "15ac89f4",
   "metadata": {},
   "source": [
    "### that's strange. when index of the window end is larger than alignment length, it returns alignment to the end, but without an error like \"index out of range\". see cells below"
   ]
  },
  {
   "cell_type": "markdown",
   "id": "5c95d3e7",
   "metadata": {},
   "source": [
    "# funtion of rolling window"
   ]
  },
  {
   "cell_type": "code",
   "execution_count": 17,
   "id": "6c0c29ce",
   "metadata": {},
   "outputs": [],
   "source": [
    "def roll_window_along_alignment(in_file, window_len, window_step, region=False):\n",
    "    \n",
    "    align = AlignIO.read(in_file, \"fasta\")\n",
    "    window_start = 0\n",
    "    window_end = window_len\n",
    "    window_step = window_step\n",
    "\n",
    "    window_counter = 0\n",
    "    sliced_alignment = {}\n",
    "    while window_start < align.get_alignment_length():\n",
    "        sliced_alignment[(window_start, window_end)] = align[:, window_start:window_end]\n",
    "        window_start += window_step\n",
    "        window_end += window_step\n",
    "\n",
    "        window_counter += 1\n",
    "\n",
    "    return sliced_alignment"
   ]
  },
  {
   "cell_type": "code",
   "execution_count": 22,
   "id": "5af4d6a1",
   "metadata": {},
   "outputs": [],
   "source": [
    "def roll_window_along_alignment_region(in_file, window_len, window_step, region=False):\n",
    "    \n",
    "    align = AlignIO.read(in_file, \"fasta\")\n",
    "    window_start = region[0]\n",
    "    window_end = region[0] + window_len\n",
    "    window_step = window_step\n",
    "\n",
    "    window_counter = 0\n",
    "    sliced_alignment = {}\n",
    "    while window_start < region[1]:\n",
    "        sliced_alignment[(window_start, window_end)] = align[:, window_start:window_end]\n",
    "        window_start += window_step\n",
    "        window_end += window_step\n",
    "\n",
    "        window_counter += 1\n",
    "\n",
    "    return sliced_alignment"
   ]
  },
  {
   "cell_type": "code",
   "execution_count": 32,
   "id": "a438d8a3",
   "metadata": {},
   "outputs": [],
   "source": [
    "from Bio import AlignIO\n",
    "\n",
    "class RollingWindowOnAlignment():\n",
    "    \n",
    "    def __init__(self, in_file):\n",
    "        self.align = AlignIO.read(in_file, \"fasta\")\n",
    "        \n",
    "    def roll_window_along_alignment(self, window_len, window_step):\n",
    "    \n",
    "        \n",
    "        window_start = 0\n",
    "        window_end = window_len\n",
    "        window_step = window_step\n",
    "\n",
    "        window_counter = 0\n",
    "        sliced_alignment = {}\n",
    "        while window_start < align.get_alignment_length():\n",
    "            sliced_alignment[(window_start, window_end)] = self.align[:, window_start:window_end]\n",
    "            window_start += window_step\n",
    "            window_end += window_step\n",
    "\n",
    "            window_counter += 1\n",
    "\n",
    "        return sliced_alignment \n",
    "    \n",
    "    def roll_window_along_alignment_region(self, window_len, window_step, region):\n",
    "    \n",
    "        \n",
    "        window_start = region[0]\n",
    "        window_end = region[0] + window_len\n",
    "        window_step = window_step\n",
    "\n",
    "        window_counter = 0\n",
    "        sliced_alignment = {}\n",
    "        while window_start < region[1]:\n",
    "            sliced_alignment[(window_start, window_end)] = self.align[:, window_start:window_end]\n",
    "            window_start += window_step\n",
    "            window_end += window_step\n",
    "\n",
    "            window_counter += 1\n",
    "\n",
    "        return sliced_alignment\n",
    "\n",
    "    \n",
    "    "
   ]
  },
  {
   "cell_type": "code",
   "execution_count": 33,
   "id": "bf045cc7",
   "metadata": {},
   "outputs": [],
   "source": [
    "align_win = RollingWindowOnAlignment(\"./hbv_C_Bj_Ba.fasta\")"
   ]
  },
  {
   "cell_type": "code",
   "execution_count": 35,
   "id": "9673597a",
   "metadata": {},
   "outputs": [],
   "source": [
    "sliced_alignment_whole = align_win.roll_window_along_alignment(window_len=100, window_step=50)"
   ]
  },
  {
   "cell_type": "code",
   "execution_count": 36,
   "id": "c9018a1c",
   "metadata": {},
   "outputs": [],
   "source": [
    "sliced_aligment_region = align_win.roll_window_along_alignment_region(window_len=100, window_step=50, region=[1000, 2000])"
   ]
  },
  {
   "cell_type": "code",
   "execution_count": 37,
   "id": "aed476cf",
   "metadata": {},
   "outputs": [
    {
     "data": {
      "text/plain": [
       "{(1000,\n",
       "  1100): <<class 'Bio.Align.MultipleSeqAlignment'> instance (3 records of length 100) at 1c73304b1f0>,\n",
       " (1050,\n",
       "  1150): <<class 'Bio.Align.MultipleSeqAlignment'> instance (3 records of length 100) at 1c73304a710>,\n",
       " (1100,\n",
       "  1200): <<class 'Bio.Align.MultipleSeqAlignment'> instance (3 records of length 100) at 1c73311b610>,\n",
       " (1150,\n",
       "  1250): <<class 'Bio.Align.MultipleSeqAlignment'> instance (3 records of length 100) at 1c7331340d0>,\n",
       " (1200,\n",
       "  1300): <<class 'Bio.Align.MultipleSeqAlignment'> instance (3 records of length 100) at 1c7331341f0>,\n",
       " (1250,\n",
       "  1350): <<class 'Bio.Align.MultipleSeqAlignment'> instance (3 records of length 100) at 1c7331343a0>,\n",
       " (1300,\n",
       "  1400): <<class 'Bio.Align.MultipleSeqAlignment'> instance (3 records of length 100) at 1c733134550>,\n",
       " (1350,\n",
       "  1450): <<class 'Bio.Align.MultipleSeqAlignment'> instance (3 records of length 100) at 1c733134700>,\n",
       " (1400,\n",
       "  1500): <<class 'Bio.Align.MultipleSeqAlignment'> instance (3 records of length 100) at 1c7331348b0>,\n",
       " (1450,\n",
       "  1550): <<class 'Bio.Align.MultipleSeqAlignment'> instance (3 records of length 100) at 1c732f492a0>,\n",
       " (1500,\n",
       "  1600): <<class 'Bio.Align.MultipleSeqAlignment'> instance (3 records of length 100) at 1c732f620e0>,\n",
       " (1550,\n",
       "  1650): <<class 'Bio.Align.MultipleSeqAlignment'> instance (3 records of length 100) at 1c733048d30>,\n",
       " (1600,\n",
       "  1700): <<class 'Bio.Align.MultipleSeqAlignment'> instance (3 records of length 100) at 1c733048a30>,\n",
       " (1650,\n",
       "  1750): <<class 'Bio.Align.MultipleSeqAlignment'> instance (3 records of length 100) at 1c73304a680>,\n",
       " (1700,\n",
       "  1800): <<class 'Bio.Align.MultipleSeqAlignment'> instance (3 records of length 100) at 1c73304a470>,\n",
       " (1750,\n",
       "  1850): <<class 'Bio.Align.MultipleSeqAlignment'> instance (3 records of length 100) at 1c733048bb0>,\n",
       " (1800,\n",
       "  1900): <<class 'Bio.Align.MultipleSeqAlignment'> instance (3 records of length 100) at 1c732e056c0>,\n",
       " (1850,\n",
       "  1950): <<class 'Bio.Align.MultipleSeqAlignment'> instance (3 records of length 100) at 1c733134970>,\n",
       " (1900,\n",
       "  2000): <<class 'Bio.Align.MultipleSeqAlignment'> instance (3 records of length 100) at 1c733134bb0>,\n",
       " (1950,\n",
       "  2050): <<class 'Bio.Align.MultipleSeqAlignment'> instance (3 records of length 100) at 1c733134d60>}"
      ]
     },
     "execution_count": 37,
     "metadata": {},
     "output_type": "execute_result"
    }
   ],
   "source": [
    "sliced_aligment_region"
   ]
  },
  {
   "cell_type": "code",
   "execution_count": null,
   "id": "eea1e594",
   "metadata": {},
   "outputs": [],
   "source": []
  },
  {
   "cell_type": "code",
   "execution_count": null,
   "id": "0e894571",
   "metadata": {},
   "outputs": [],
   "source": []
  },
  {
   "cell_type": "code",
   "execution_count": null,
   "id": "429afa98",
   "metadata": {},
   "outputs": [],
   "source": []
  },
  {
   "cell_type": "code",
   "execution_count": null,
   "id": "687f6054",
   "metadata": {},
   "outputs": [],
   "source": []
  },
  {
   "cell_type": "code",
   "execution_count": null,
   "id": "3b4dd3ab",
   "metadata": {},
   "outputs": [],
   "source": []
  },
  {
   "cell_type": "code",
   "execution_count": null,
   "id": "35ed3834",
   "metadata": {},
   "outputs": [],
   "source": []
  },
  {
   "cell_type": "code",
   "execution_count": null,
   "id": "00c28e2a",
   "metadata": {},
   "outputs": [],
   "source": []
  },
  {
   "cell_type": "code",
   "execution_count": null,
   "id": "9ebc432a",
   "metadata": {},
   "outputs": [],
   "source": []
  },
  {
   "cell_type": "code",
   "execution_count": null,
   "id": "e6d80821",
   "metadata": {},
   "outputs": [],
   "source": []
  },
  {
   "cell_type": "code",
   "execution_count": null,
   "id": "a1963b4f",
   "metadata": {},
   "outputs": [],
   "source": []
  },
  {
   "cell_type": "code",
   "execution_count": null,
   "id": "652b1d93",
   "metadata": {},
   "outputs": [],
   "source": []
  },
  {
   "cell_type": "code",
   "execution_count": null,
   "id": "2f2f3785",
   "metadata": {},
   "outputs": [],
   "source": []
  },
  {
   "cell_type": "code",
   "execution_count": null,
   "id": "877aa237",
   "metadata": {},
   "outputs": [],
   "source": []
  },
  {
   "cell_type": "code",
   "execution_count": null,
   "id": "345eeaf1",
   "metadata": {},
   "outputs": [],
   "source": []
  },
  {
   "cell_type": "code",
   "execution_count": null,
   "id": "0ad3b2bf",
   "metadata": {},
   "outputs": [],
   "source": []
  },
  {
   "cell_type": "code",
   "execution_count": null,
   "id": "685d6475",
   "metadata": {},
   "outputs": [],
   "source": []
  }
 ],
 "metadata": {
  "kernelspec": {
   "display_name": "Python 3 (ipykernel)",
   "language": "python",
   "name": "python3"
  },
  "language_info": {
   "codemirror_mode": {
    "name": "ipython",
    "version": 3
   },
   "file_extension": ".py",
   "mimetype": "text/x-python",
   "name": "python",
   "nbconvert_exporter": "python",
   "pygments_lexer": "ipython3",
   "version": "3.10.5"
  }
 },
 "nbformat": 4,
 "nbformat_minor": 5
}
